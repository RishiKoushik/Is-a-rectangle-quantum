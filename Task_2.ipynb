{
  "nbformat": 4,
  "nbformat_minor": 0,
  "metadata": {
    "colab": {
      "provenance": []
    },
    "kernelspec": {
      "name": "python3",
      "display_name": "Python 3"
    },
    "language_info": {
      "name": "python"
    }
  },
  "cells": [
    {
      "cell_type": "code",
      "execution_count": 1,
      "metadata": {
        "id": "ZOwpDSyJ0P4d",
        "colab": {
          "base_uri": "https://localhost:8080/"
        },
        "outputId": "ff1c8c1a-e250-4f4a-9d3c-04a0934c1830"
      },
      "outputs": [
        {
          "output_type": "stream",
          "name": "stdout",
          "text": [
            "Looking in indexes: https://pypi.org/simple, https://us-python.pkg.dev/colab-wheels/public/simple/\n",
            "Requirement already satisfied: qiskit in /usr/local/lib/python3.8/dist-packages (0.41.1)\n",
            "Requirement already satisfied: qiskit-ibmq-provider==0.20.1 in /usr/local/lib/python3.8/dist-packages (from qiskit) (0.20.1)\n",
            "Requirement already satisfied: qiskit-aer==0.11.2 in /usr/local/lib/python3.8/dist-packages (from qiskit) (0.11.2)\n",
            "Requirement already satisfied: qiskit-terra==0.23.2 in /usr/local/lib/python3.8/dist-packages (from qiskit) (0.23.2)\n",
            "Requirement already satisfied: scipy>=1.0 in /usr/local/lib/python3.8/dist-packages (from qiskit-aer==0.11.2->qiskit) (1.7.3)\n",
            "Requirement already satisfied: numpy>=1.16.3 in /usr/local/lib/python3.8/dist-packages (from qiskit-aer==0.11.2->qiskit) (1.22.4)\n",
            "Requirement already satisfied: requests-ntlm~=1.1.0 in /usr/local/lib/python3.8/dist-packages (from qiskit-ibmq-provider==0.20.1->qiskit) (1.1.0)\n",
            "Requirement already satisfied: websockets~=10.0 in /usr/local/lib/python3.8/dist-packages (from qiskit-ibmq-provider==0.20.1->qiskit) (10.4)\n",
            "Requirement already satisfied: python-dateutil~=2.8.0 in /usr/local/lib/python3.8/dist-packages (from qiskit-ibmq-provider==0.20.1->qiskit) (2.8.2)\n",
            "Requirement already satisfied: urllib3~=1.26.0 in /usr/local/lib/python3.8/dist-packages (from qiskit-ibmq-provider==0.20.1->qiskit) (1.26.14)\n",
            "Requirement already satisfied: requests~=2.28.0 in /usr/local/lib/python3.8/dist-packages (from qiskit-ibmq-provider==0.20.1->qiskit) (2.28.2)\n",
            "Requirement already satisfied: websocket-client~=1.5.1 in /usr/local/lib/python3.8/dist-packages (from qiskit-ibmq-provider==0.20.1->qiskit) (1.5.1)\n",
            "Requirement already satisfied: symengine>=0.9 in /usr/local/lib/python3.8/dist-packages (from qiskit-terra==0.23.2->qiskit) (0.9.2)\n",
            "Requirement already satisfied: dill>=0.3 in /usr/local/lib/python3.8/dist-packages (from qiskit-terra==0.23.2->qiskit) (0.3.6)\n",
            "Requirement already satisfied: psutil>=5 in /usr/local/lib/python3.8/dist-packages (from qiskit-terra==0.23.2->qiskit) (5.4.8)\n",
            "Requirement already satisfied: stevedore>=3.0.0 in /usr/local/lib/python3.8/dist-packages (from qiskit-terra==0.23.2->qiskit) (5.0.0)\n",
            "Requirement already satisfied: rustworkx>=0.12.0 in /usr/local/lib/python3.8/dist-packages (from qiskit-terra==0.23.2->qiskit) (0.12.1)\n",
            "Requirement already satisfied: ply>=3.10 in /usr/local/lib/python3.8/dist-packages (from qiskit-terra==0.23.2->qiskit) (3.11)\n",
            "Requirement already satisfied: sympy>=1.3 in /usr/local/lib/python3.8/dist-packages (from qiskit-terra==0.23.2->qiskit) (1.7.1)\n",
            "Requirement already satisfied: six>=1.5 in /usr/local/lib/python3.8/dist-packages (from python-dateutil~=2.8.0->qiskit-ibmq-provider==0.20.1->qiskit) (1.15.0)\n",
            "Requirement already satisfied: idna<4,>=2.5 in /usr/local/lib/python3.8/dist-packages (from requests~=2.28.0->qiskit-ibmq-provider==0.20.1->qiskit) (2.10)\n",
            "Requirement already satisfied: certifi>=2017.4.17 in /usr/local/lib/python3.8/dist-packages (from requests~=2.28.0->qiskit-ibmq-provider==0.20.1->qiskit) (2022.12.7)\n",
            "Requirement already satisfied: charset-normalizer<4,>=2 in /usr/local/lib/python3.8/dist-packages (from requests~=2.28.0->qiskit-ibmq-provider==0.20.1->qiskit) (3.0.1)\n",
            "Requirement already satisfied: ntlm-auth>=1.0.2 in /usr/local/lib/python3.8/dist-packages (from requests-ntlm~=1.1.0->qiskit-ibmq-provider==0.20.1->qiskit) (1.5.0)\n",
            "Requirement already satisfied: cryptography>=1.3 in /usr/local/lib/python3.8/dist-packages (from requests-ntlm~=1.1.0->qiskit-ibmq-provider==0.20.1->qiskit) (39.0.1)\n",
            "Requirement already satisfied: pbr!=2.1.0,>=2.0.0 in /usr/local/lib/python3.8/dist-packages (from stevedore>=3.0.0->qiskit-terra==0.23.2->qiskit) (5.11.1)\n",
            "Requirement already satisfied: mpmath>=0.19 in /usr/local/lib/python3.8/dist-packages (from sympy>=1.3->qiskit-terra==0.23.2->qiskit) (1.2.1)\n",
            "Requirement already satisfied: cffi>=1.12 in /usr/local/lib/python3.8/dist-packages (from cryptography>=1.3->requests-ntlm~=1.1.0->qiskit-ibmq-provider==0.20.1->qiskit) (1.15.1)\n",
            "Requirement already satisfied: pycparser in /usr/local/lib/python3.8/dist-packages (from cffi>=1.12->cryptography>=1.3->requests-ntlm~=1.1.0->qiskit-ibmq-provider==0.20.1->qiskit) (2.21)\n"
          ]
        }
      ],
      "source": [
        "!pip install qiskit"
      ]
    },
    {
      "cell_type": "code",
      "source": [
        "from qiskit import *"
      ],
      "metadata": {
        "id": "gjc9auEy0bZk"
      },
      "execution_count": 2,
      "outputs": []
    },
    {
      "cell_type": "code",
      "source": [
        "def is_rectangle (A : int,B : int,C : int,D : int):\n",
        "\n",
        "  #Finding max length of binary string needed\n",
        "  ss=[]\n",
        "  ss.append(len(bin(A)[2:]))\n",
        "  ss.append(len(bin(B)[2:]))\n",
        "  ss.append(len(bin(C)[2:]))\n",
        "  ss.append(len(bin(D)[2:]))\n",
        "  n=max(ss) #n acts as register size for each number\n",
        "\n",
        "  #converting all integers into binary strings of max size\n",
        "  s=[]\n",
        "  s.append((bin(A)[2:]).zfill(n))\n",
        "  s.append((bin(B)[2:]).zfill(n))\n",
        "  s.append((bin(C)[2:]).zfill(n))\n",
        "  s.append((bin(D)[2:]).zfill(n))\n",
        "\n",
        "  #Function to apply X gate according to string for each of the 4 registers\n",
        "  def build_register(n,s) :\n",
        "    qcb=QuantumCircuit(n)\n",
        "    for i in range(n) :\n",
        "      if s[i]=='1' :\n",
        "        qcb.x(n-1-i)\n",
        "    return qcb\n",
        "\n",
        "  #This function evaluates the results of all side comparisions a-b,a-c,a-d,b-c,b-d,c-d\n",
        "  def solution_reg():\n",
        "    qcs=QuantumCircuit(9)\n",
        "    for i in range(3,6) :\n",
        "      qcs.ccx(i,i+3,2)\n",
        "    qcs.cx(5,1)\n",
        "    qcs.cx(4,1)\n",
        "    qcs.cx(3,1)\n",
        "    qcs.ccx(2,1,0)\n",
        "    return qcs\n",
        "\n",
        "  qc=QuantumCircuit(4*n+9,4*n+9)\n",
        "  for i in range(4) :\n",
        "    qc.compose(build_register(n,s[i]) ,qubits=range(9+i*n,9+n+i*n),inplace=True)\n",
        "  \n",
        "  #This gate compares two sides\n",
        "  compare=QuantumCircuit(2*n+1)\n",
        "  compare.cx(list(range(0,n)),list(range(n,2*n)))\n",
        "  compare.x(range(n,2*n))\n",
        "  compare.mcx(list(range(n,2*n)),2*n)\n",
        "  compare.x(range(n,2*n))\n",
        "  my_gate=compare.to_gate()\n",
        "  #list of all the comparisions to be done\n",
        "  k=[[0,1],[0,2],[0,3],[3,2],[1,3],[3,2]]\n",
        "  for i in range(6) :\n",
        "    lis=list(range(9+k[i][0]*n,9+k[i][0]*n+n))+list(range(9+k[i][1]*n,9+k[i][1]*n+n))\n",
        "    lis.append(3+i)\n",
        "    qc.append(my_gate,lis)\n",
        "  \n",
        "  qc.compose(solution_reg() ,qubits=range(0,9),inplace=True)\n",
        "  qc.measure(range(9+4*n),range(9+4*n))\n",
        "  backend = Aer.get_backend('qasm_simulator')\n",
        "  result = execute(qc, backend).result()\n",
        "  counts = result.get_counts()\n",
        "  output = list(counts.keys())[0]\n",
        "   \n",
        "  #only Qubit 0 has the output and thus it would at end of string \n",
        "  return output[4*n+8]\n"
      ],
      "metadata": {
        "id": "w4ByPGzw0gbR"
      },
      "execution_count": 3,
      "outputs": []
    },
    {
      "cell_type": "code",
      "source": [
        "A = is_rectangle(5,6,6,5)\n",
        "print(A)"
      ],
      "metadata": {
        "colab": {
          "base_uri": "https://localhost:8080/"
        },
        "id": "IfJJR-I0DH7W",
        "outputId": "f6d66619-b291-48f3-96a1-c1cab5839b13"
      },
      "execution_count": 4,
      "outputs": [
        {
          "output_type": "stream",
          "name": "stdout",
          "text": [
            "1\n"
          ]
        }
      ]
    },
    {
      "cell_type": "markdown",
      "source": [
        "Qubits are as Follows\n",
        "*   qubits=0 to 8 are used to evaluate comparisions\n",
        "*   qubits 9 to 9+4*n-1 are used to represent 4 sides in qubits\n",
        "<hr>"
      ],
      "metadata": {
        "id": "6coo4-Jv-Ggh"
      }
    },
    {
      "cell_type": "markdown",
      "source": [
        "How does comparisions happen ? \\\\\n",
        "Let sides be A, B, C and D \\\\\n",
        "Comparisions are done using cx gates here (acts as XOR operator) \\\\\n",
        "A and B are equal if A XOR B =0 and converse is true as well \\\\\n",
        "\n",
        "IF B is zero after cx(A,B) then mcx gate would flip the register storing the comparision into corresponding qubit \\\\\n",
        "0 if unequal and 1 if equal \n",
        "\n",
        "1.   A XOR B in qubit 3\n",
        "2.   A XOR C in qubit 4\n",
        "3.   A XOR D in qubit 5\n",
        "4.   C XOR D in qubit 6\n",
        "5.   B XOR D in qubit 7\n",
        "6.   B XOR C in qubit 8\n",
        "<hr>"
      ],
      "metadata": {
        "id": "69U_bh9k-enZ"
      }
    },
    {
      "cell_type": "markdown",
      "source": [
        "Now a quadrilateral is a rectangle \n",
        "1. If two pairs of sides are equal\n",
        "2. All sides are equal\n",
        "\n",
        "Now favourable cases in q3 to q8 are \n",
        "1.   100100\n",
        "2.   010010\n",
        "3.   001001\n",
        "4.   111111\n",
        "\n",
        "\n",
        "rest all cases either are invalid or not a rectangle\n",
        "<hr>"
      ],
      "metadata": {
        "id": "9ApzmR49CNdC"
      }
    },
    {
      "cell_type": "markdown",
      "source": [
        "We can observe that first three qubits are equal to last 3 qubits and thus comparing those should be 1 incase of equal and 0 if not equal \\\\\n",
        "\n",
        "We do this and store in qubit 2\n",
        "But this still leaves us with cases 000000,110110,101101,011110 which doesnt form a rectangle \\\\\n",
        "But No of 1s in half first three must always be odd. So we check if its odd or not in Qubit 1\n",
        "<hr>"
      ],
      "metadata": {
        "id": "bRAO0mkXDQVG"
      }
    },
    {
      "cell_type": "markdown",
      "source": [
        "If both cases are valid then It must be rectangle and as such we use a ccx operator from qubits 2,1 as controls and 0 as target this if both are valid Qubit zero would be 1 and sides can form a rectangle"
      ],
      "metadata": {
        "id": "qv2QP1F_EKgM"
      }
    }
  ]
}